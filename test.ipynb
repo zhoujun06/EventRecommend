{
 "metadata": {
  "name": "Untitled0"
 }, 
 "nbformat": 2, 
 "worksheets": [
  {
   "cells": [
    {
     "cell_type": "code", 
     "collapsed": true, 
     "input": [
      "from __future__ import division", 
      "from dateutil.parser import parse", 
      "from copy import copy", 
      "import os", 
      "import csv", 
      "import random", 
      "import numpy  as np", 
      "import pandas as pd", 
      "from sklearn import svm", 
      "from sklearn import tree", 
      "", 
      "from geopy import distance", 
      "", 
      "def isNotNull(string):", 
      "    return string is not None and len(str(string)) > 0", 
      "", 
      "data_path = '../'", 
      "train_file = data_path + 'train.csv'", 
      "event_file = data_path + 'events_valid.csv'", 
      "user_file = data_path + 'users.csv'", 
      "attend_file = data_path + 'event_attendees_stat.csv'", 
      "user_like_cnt_file = data_path + 'user_like_cnt_p'", 
      "user_friends_file = data_path + 'user_friends.csv'", 
      "event_attend_file = data_path + 'event_attendees.csv'", 
      "#address info of users", 
      "addr_user_dict_file = data_path + 'addr_user_all.dict'", 
      "", 
      "train = pd.read_csv(train_file, converters={\"timestamp\":parse})", 
      "events = pd.read_csv(event_file, converters={'start_time':parse})", 
      "users = pd.read_csv(user_file)", 
      "pop = pd.read_csv(attend_file)", 
      "#user_like_cnt = pd.read_csv(user_like_cnt_file)", 
      "user_friends = pd.read_csv(user_friends_file)", 
      "event_attend = pd.read_csv(event_attend_file)", 
      "", 
      "#userinfo and user like cnt", 
      "#cnt_user = pd.merge(users, user_like_cnt, on='user_id')", 
      "#training user info", 
      "train_user = pd.merge(train, users, left_on='user', right_on='user_id')", 
      "tue = pd.merge(train_user, events, left_on='event', right_on='event_id')", 
      "tue_pop = pd.merge(tue, pop, left_on='event', right_on='event')", 
      "", 
      "#time_diff, in unit of hours", 
      "tue_pop['time_diff']=0", 
      "#location of user and event, using simple string contain match", 
      "tue_pop['loc_match']=2000", 
      "tue_pop['class'] = tue_pop['interested']", 
      "tue_pop['start_hour']=0", 
      "tue_pop['friends_yes']=0", 
      "", 
      "", 
      "user_friend_dict = {}", 
      "event_attend_dict = {}", 
      "ufd_fname = 'user_friend_dict.txt'", 
      "ead_fname = 'event_attend_dict.txt'", 
      "", 
      "addr_user_dict = {}", 
      "addr_user_dict = eval(open(addr_user_dict_file, 'r').read())", 
      "#if os.path.isfile(ufd_fname):", 
      "#   user_friend_dict = eval(open(ufd_fname,'r').read())", 
      "#   event_attend_dict = eval(open(ead_fname,'r').read())", 
      "#else:", 
      "for row_index, row in user_friends.iterrows():", 
      "    uid = int(row['user'])", 
      "    user_friend_dict[uid]=[]", 
      "    if isNotNull(row['friends']):", 
      "        frds = str(row['friends']).split()", 
      "        user_friend_dict[uid]=frds", 
      "        ", 
      "for row_index, row in event_attend.iterrows():", 
      "    eid = int(row['event'])", 
      "    event_attend_dict[eid]=[]", 
      "    if isNotNull(row['yes']):", 
      "        atds = str(row['yes']).split()", 
      "        event_attend_dict[eid]=atds", 
      "", 
      "for row_index, row in tue_pop.iterrows():", 
      "    #list of friends of the user", 
      "    #friends = user_friends.select(lambda i: user_friends.irow(i)['user']==row['user'])['friends'].str.split().values[0]", 
      "    #list of attendees of the event", 
      "    #attends = event_attend.select(lambda i: event_attend.irow(i)['event']==row['event'])['yes'].str.split().values[0]", 
      "    #number of friends who attend this event", 
      "    uid = int(row['user'])", 
      "    eid = int(row['event'])", 
      "    tue_pop['friends_yes'][row_index]=len([w for w in user_friend_dict[uid] if w in event_attend_dict[eid]])", 
      "    ", 
      "    if row['birthyear'].isdigit():", 
      "        tue_pop['birthyear'][row_index] = 2012-int(row['birthyear'])", 
      "    else:", 
      "        tue_pop['birthyear'][row_index] = 0", 
      "        ", 
      "    if row['gender'] == 'male':", 
      "        tue_pop['gender'][row_index] = 1", 
      "    else:", 
      "        tue_pop['gender'][row_index] = 0", 
      "        ", 
      "    tue_pop['start_hour'][row_index] = row['start_time'].hour", 
      "    diff = row['start_time']-row['timestamp']", 
      "    tue_pop['time_diff'][row_index]=int(diff.total_seconds()/3600)", 
      "    ", 
      "    ", 
      "    if isNotNull(row['location']) and not np.isnan(row['lat']) and not np.isnan(row['lng']) and row['location'] in addr_user_dict: ", 
      "        user_loc = addr_user_dict[(row['location'])]", 
      "        event_loc = (row['lat'], row['lng'])", 
      "        #print uid, eid, user_loc, event_loc", 
      "        tue_pop['loc_match'][row_index] = distance.distance(user_loc, event_loc).miles ", 
      "    ", 
      "    #if isNotNull(row['location']) and isNotNull(row['city']) and str(row['city']) in str(row['location']):", 
      "    #    tue_pop['loc_match'][row_index] = 1"
     ], 
     "language": "python", 
     "outputs": [], 
     "prompt_number": 1
    }, 
    {
     "cell_type": "code", 
     "collapsed": true, 
     "input": [
      "#tue_pop[['user','event','invited_x','interested','not_interested','birthyear','gender','friends_yes','start_hour','time_diff','loc_match','yes','maybe','invited_y','no','c_1','c_2','c_3','c_4','c_5','c_6','c_7','c_8','c_9','c_10','c_11','c_12','c_13','c_14','c_15','c_16','c_17','c_18','c_19','c_20','c_21','c_22','c_23','c_24','c_25','c_26','c_27','c_28','c_29','c_30','c_31','c_32','c_33','c_34','c_35','c_36','c_37','c_38','c_39','c_40','c_41','c_42','c_43','c_44','c_45','c_46','c_47','c_48','c_49','c_50','c_51','c_52','c_53','c_54','c_55','c_56','c_57','c_58','c_59','c_60','c_61','c_62','c_63','c_64','c_65','c_66','c_67','c_68','c_69','c_70','c_71','c_72','c_73','c_74','c_75','c_76','c_77','c_78','c_79','c_80','c_81','c_82','c_83','c_84','c_85','c_86','c_87','c_88','c_89','c_90','c_91','c_92','c_93','c_94','c_95','c_96','c_97','c_98','c_99','c_100','c_other']].to_csv('train_all.csv', index=False)", 
      "select_org = tue_pop[['invited_x','birthyear','gender','friends_yes','start_hour','time_diff','loc_match','yes','maybe','invited_y','no','c_1','c_2','c_3','c_4','c_5','c_6','c_7','c_8','c_9','c_10','c_11','c_12','c_13','c_14','c_15','c_16','c_17','c_18','c_19','c_20','c_21','c_22','c_23','c_24','c_25','c_26','c_27','c_28','c_29','c_30','c_31','c_32','c_33','c_34','c_35','c_36','c_37','c_38','c_39','c_40','c_41','c_42','c_43','c_44','c_45','c_46','c_47','c_48','c_49','c_50','c_51','c_52','c_53','c_54','c_55','c_56','c_57','c_58','c_59','c_60','c_61','c_62','c_63','c_64','c_65','c_66','c_67','c_68','c_69','c_70','c_71','c_72','c_73','c_74','c_75','c_76','c_77','c_78','c_79','c_80','c_81','c_82','c_83','c_84','c_85','c_86','c_87','c_88','c_89','c_90','c_91','c_92','c_93','c_94','c_95','c_96','c_97','c_98','c_99','c_100','c_other','class']]", 
      "            ", 
      "for col in select_org.columns:", 
      "    select_org[col]=select_org[col].astype(np.float64)", 
      "    select_org[col]=select_org[col]/max(select_org[col])", 
      "", 
      "select = select_org", 
      "    "
     ], 
     "language": "python", 
     "outputs": [], 
     "prompt_number": 2
    }, 
    {
     "cell_type": "code", 
     "collapsed": false, 
     "input": [
      "from sklearn.metrics import classification_report", 
      "clf = tree.DecisionTreeClassifier()", 
      "clf.fit(select.values[0:12000,:-1], select.values[0:12000,-1])", 
      "pred = clf.predict(select.values[12000:-1,:-1])", 
      "target_names = ['class 0', 'class 1']", 
      "result = classification_report(select.values[12000:-1,-1], pred, target_names=target_names)", 
      "print result"
     ], 
     "language": "python", 
     "outputs": [
      {
       "output_type": "stream", 
       "stream": "stdout", 
       "text": [
        "             precision    recall  f1-score   support", 
        "", 
        "    class 0       0.81      0.76      0.78      2587", 
        "    class 1       0.35      0.42      0.38       810", 
        "", 
        "avg / total       0.70      0.68      0.69      3397", 
        ""
       ]
      }
     ], 
     "prompt_number": 3
    }, 
    {
     "cell_type": "code", 
     "collapsed": true, 
     "input": [
      "#resample tue_pop !!!!!!!!!!!!!!!!!!!!!!!!!!!!!!!111", 
      "from sklearn.utils import resample", 
      "select_resample = resample(select_org.values[0:12000], random_state=0);"
     ], 
     "language": "python", 
     "outputs": [], 
     "prompt_number": 4
    }, 
    {
     "cell_type": "code", 
     "collapsed": false, 
     "input": [
      "clf_r = tree.DecisionTreeClassifier()", 
      "clf_r.fit(select_resample[:,:-1], select_resample[:,-1])", 
      "pred = clf_r.predict(select_org.values[12000:-1,:-1])", 
      "result = classification_report(select_org.values[12000:-1,-1], pred, target_names=target_names)", 
      "print result"
     ], 
     "language": "python", 
     "outputs": [
      {
       "output_type": "stream", 
       "stream": "stdout", 
       "text": [
        "             precision    recall  f1-score   support", 
        "", 
        "    class 0       0.81      0.76      0.79      2587", 
        "    class 1       0.36      0.44      0.40       810", 
        "", 
        "avg / total       0.70      0.68      0.69      3397", 
        ""
       ]
      }
     ], 
     "prompt_number": 5
    }, 
    {
     "cell_type": "code", 
     "collapsed": false, 
     "input": [
      "from sklearn.ensemble import RandomForestClassifier", 
      "r_clf = RandomForestClassifier(n_estimators=2)", 
      "r_clf.fit(select.values[0:12000,:-1], select.values[0:12000,-1])", 
      "pred = r_clf.predict(select.values[12000:-1,:-1])", 
      "result = classification_report(select.values[12000:-1,-1], pred, target_names=target_names)", 
      "print result"
     ], 
     "language": "python", 
     "outputs": [
      {
       "output_type": "stream", 
       "stream": "stdout", 
       "text": [
        "             precision    recall  f1-score   support", 
        "", 
        "    class 0       0.78      0.92      0.84      2587", 
        "    class 1       0.39      0.16      0.22       810", 
        "", 
        "avg / total       0.68      0.74      0.70      3397", 
        ""
       ]
      }
     ], 
     "prompt_number": 39
    }, 
    {
     "cell_type": "code", 
     "collapsed": false, 
     "input": [
      "from sklearn.ensemble import RandomForestClassifier", 
      "r_clf_r = RandomForestClassifier(n_estimators=2)", 
      "r_clf_r.fit(select_resample[0:12000,:-1], select_resample[0:12000,-1])", 
      "pred = r_clf_r.predict(select_org.values[12000:-1,:-1])", 
      "result = classification_report(select_org.values[12000:-1,-1], pred, target_names=target_names)", 
      "print result"
     ], 
     "language": "python", 
     "outputs": [
      {
       "output_type": "stream", 
       "stream": "stdout", 
       "text": [
        "             precision    recall  f1-score   support", 
        "", 
        "    class 0       0.78      0.93      0.85      2587", 
        "    class 1       0.45      0.18      0.25       810", 
        "", 
        "avg / total       0.70      0.75      0.71      3397", 
        ""
       ]
      }
     ], 
     "prompt_number": 33
    }, 
    {
     "cell_type": "code", 
     "collapsed": false, 
     "input": [
      "from sklearn import linear_model", 
      "l_clf = linear_model.LogisticRegression(C=1.0, penalty='l2', tol=1e-6)", 
      "l_clf.fit(select.values[0:12000,:-1], select.values[0:12000,-1])", 
      "pred = l_clf.predict(select.values[12000:-1,:-1])", 
      "result = classification_report(select.values[12000:-1,-1], pred, target_names=target_names)", 
      "print result"
     ], 
     "language": "python", 
     "outputs": [
      {
       "output_type": "stream", 
       "stream": "stdout", 
       "text": [
        "             precision    recall  f1-score   support", 
        "", 
        "    class 0       0.76      0.99      0.86      2587", 
        "    class 1       0.36      0.01      0.02       810", 
        "", 
        "avg / total       0.67      0.76      0.66      3397", 
        ""
       ]
      }
     ], 
     "prompt_number": 37
    }, 
    {
     "cell_type": "code", 
     "collapsed": false, 
     "input": [
      "l_clf_r = linear_model.LogisticRegression(C=1.0, penalty='l2', tol=1e-6)", 
      "r_clf_r.fit(select_resample[0:12000,:-1], select_resample[0:12000,-1])", 
      "pred = r_clf_r.predict(select_org.values[12000:-1,:-1])", 
      "result = classification_report(select_org.values[12000:-1,-1], pred, target_names=target_names)", 
      "print result"
     ], 
     "language": "python", 
     "outputs": [
      {
       "output_type": "stream", 
       "stream": "stdout", 
       "text": [
        "             precision    recall  f1-score   support", 
        "", 
        "    class 0       0.79      0.93      0.85      2587", 
        "    class 1       0.46      0.20      0.28       810", 
        "", 
        "avg / total       0.71      0.75      0.71      3397", 
        ""
       ]
      }
     ], 
     "prompt_number": 38
    }, 
    {
     "cell_type": "code", 
     "collapsed": false, 
     "input": [
      "from sklearn import svm", 
      "s_clf = svm.SVC(kernel='rbf', class_weight={1:2.65})", 
      "s_clf.fit(select.values[0:12000,:-1], select.values[0:12000,-1])", 
      "pred = s_clf.predict(select.values[12000:-1,:-1])", 
      "result = classification_report(select.values[12000:-1,-1], pred, target_names=target_names)", 
      "print result", 
      "", 
      "s_clf = svm.SVC(kernel='linear', class_weight={1:2.65})", 
      "s_clf.fit(select.values[0:12000,:-1], select.values[0:12000,-1])", 
      "pred = s_clf.predict(select.values[12000:-1,:-1])", 
      "result = classification_report(select.values[12000:-1,-1], pred, target_names=target_names)", 
      "print result"
     ], 
     "language": "python", 
     "outputs": [
      {
       "output_type": "stream", 
       "stream": "stdout", 
       "text": [
        "             precision    recall  f1-score   support", 
        "", 
        "    class 0       0.79      0.30      0.44      2587", 
        "    class 1       0.25      0.74      0.37       810", 
        "", 
        "avg / total       0.66      0.41      0.42      3397", 
        "", 
        "             precision    recall  f1-score   support", 
        "", 
        "    class 0       0.79      0.61      0.69      2587", 
        "    class 1       0.28      0.48      0.35       810", 
        "", 
        "avg / total       0.67      0.58      0.61      3397"
       ]
      }, 
      {
       "output_type": "stream", 
       "stream": "stdout", 
       "text": [
        ""
       ]
      }
     ], 
     "prompt_number": 10
    }, 
    {
     "cell_type": "code", 
     "collapsed": true, 
     "input": [
      "from sklearn.cluster import KMeans", 
      "import time", 
      "k_means = KMeans(init='k-means++', n_clusters=20, n_init=10)", 
      "event_feature = tue_pop[['c_1','c_2','c_3','c_4','c_5','c_6','c_7','c_8','c_9','c_10','c_11','c_12','c_13','c_14','c_15','c_16','c_17','c_18','c_19','c_20','c_21','c_22','c_23','c_24','c_25','c_26','c_27','c_28','c_29','c_30','c_31','c_32','c_33','c_34','c_35','c_36','c_37','c_38','c_39','c_40','c_41','c_42','c_43','c_44','c_45','c_46','c_47','c_48','c_49','c_50','c_51','c_52','c_53','c_54','c_55','c_56','c_57','c_58','c_59','c_60','c_61','c_62','c_63','c_64','c_65','c_66','c_67','c_68','c_69','c_70','c_71','c_72','c_73','c_74','c_75','c_76','c_77','c_78','c_79','c_80','c_81','c_82','c_83','c_84','c_85','c_86','c_87','c_88','c_89','c_90','c_91','c_92','c_93','c_94','c_95','c_96','c_97','c_98','c_99','c_100']]", 
      "t0 = time.time()", 
      "k_means.fit(event_feature.values)", 
      "t_batch = time.time() - t0", 
      "labels = k_means.labels_"
     ], 
     "language": "python", 
     "outputs": [], 
     "prompt_number": 13
    }, 
    {
     "cell_type": "code", 
     "collapsed": true, 
     "input": [
      "other_feature = select_org[['invited_x','birthyear','gender','friends_yes','start_hour','time_diff','loc_match','yes','maybe','invited_y','no','c_other','class']]", 
      "other_feature['c_other']=labels/max(labels)"
     ], 
     "language": "python", 
     "outputs": [], 
     "prompt_number": 14
    }, 
    {
     "cell_type": "code", 
     "collapsed": false, 
     "input": [
      "", 
      "c_clf = tree.DecisionTreeClassifier()", 
      "c_clf.fit(other_feature.values[0:12000,:-1], select.values[0:12000,-1])", 
      "pred = c_clf.predict(other_feature.values[12000:-1,:-1])", 
      "result = classification_report(other_feature.values[12000:-1,-1], pred, target_names=target_names)", 
      "print result"
     ], 
     "language": "python", 
     "outputs": [
      {
       "output_type": "stream", 
       "stream": "stdout", 
       "text": [
        "             precision    recall  f1-score   support", 
        "", 
        "    class 0       0.80      0.75      0.78      2587", 
        "    class 1       0.34      0.41      0.38       810", 
        "", 
        "avg / total       0.69      0.67      0.68      3397", 
        ""
       ]
      }
     ], 
     "prompt_number": 15
    }, 
    {
     "cell_type": "code", 
     "collapsed": false, 
     "input": [
      "c_r_clf = RandomForestClassifier(n_estimators=10)", 
      "c_r_clf.fit(other_feature.values[0:12000,:-1], other_feature.values[0:12000,-1])", 
      "pred = c_r_clf.predict(other_feature.values[12000:-1,:-1])", 
      "result = classification_report(other_feature.values[12000:-1,-1], pred, target_names=target_names)", 
      "print result"
     ], 
     "language": "python", 
     "outputs": [
      {
       "output_type": "stream", 
       "stream": "stdout", 
       "text": [
        "             precision    recall  f1-score   support", 
        "", 
        "    class 0       0.80      0.93      0.86      2587", 
        "    class 1       0.55      0.27      0.36       810", 
        "", 
        "avg / total       0.74      0.77      0.74      3397", 
        ""
       ]
      }
     ], 
     "prompt_number": 16
    }, 
    {
     "cell_type": "code", 
     "collapsed": true, 
     "input": [
      "other_res = resample(other_feature[0:12000], random_state=0) ", 
      "#other_res = resample(other_res, random_state=7) "
     ], 
     "language": "python", 
     "outputs": [], 
     "prompt_number": 17
    }, 
    {
     "cell_type": "code", 
     "collapsed": false, 
     "input": [
      "c_clf_r = tree.DecisionTreeClassifier()", 
      "c_clf_r.fit(other_res[:,:-1], other_res[:,-1])", 
      "pred = c_clf_r.predict(other_feature.values[12000:-1,:-1])", 
      "result = classification_report(other_feature.values[12000:-1,-1], pred, target_names=target_names)", 
      "print result"
     ], 
     "language": "python", 
     "outputs": [
      {
       "output_type": "stream", 
       "stream": "stdout", 
       "text": [
        "             precision    recall  f1-score   support", 
        "", 
        "    class 0       0.81      0.77      0.79      2587", 
        "    class 1       0.37      0.44      0.40       810", 
        "", 
        "avg / total       0.71      0.69      0.70      3397", 
        ""
       ]
      }
     ], 
     "prompt_number": 18
    }, 
    {
     "cell_type": "code", 
     "collapsed": false, 
     "input": [
      "c_r_clf_r = RandomForestClassifier(n_estimators=10)", 
      "c_r_clf_r.fit(other_res[:,:-1], other_res[:,-1])", 
      "pred = c_r_clf_r.predict(other_feature.values[12000:-1,:-1])", 
      "result = classification_report(other_feature.values[12000:-1,-1], pred, target_names=target_names)", 
      "print result"
     ], 
     "language": "python", 
     "outputs": [
      {
       "output_type": "stream", 
       "stream": "stdout", 
       "text": [
        "             precision    recall  f1-score   support", 
        "", 
        "    class 0       0.80      0.92      0.86      2587", 
        "    class 1       0.53      0.29      0.37       810", 
        "", 
        "avg / total       0.74      0.77      0.74      3397", 
        ""
       ]
      }
     ], 
     "prompt_number": 19
    }, 
    {
     "cell_type": "code", 
     "collapsed": false, 
     "input": [
      "l_clf_r = linear_model.LogisticRegression(C=10.0, penalty='l2', tol=1e-6)", 
      "l_clf_r.fit(other_res[:,:-1], other_res[:,-1])", 
      "pred = l_clf_r.predict(other_feature.values[12000:-1,:-1])", 
      "result = classification_report(other_feature.values[12000:-1,-1], pred, target_names=target_names)", 
      "print result"
     ], 
     "language": "python", 
     "outputs": [
      {
       "output_type": "stream", 
       "stream": "stdout", 
       "text": [
        "             precision    recall  f1-score   support", 
        "", 
        "    class 0       0.76      1.00      0.87      2587", 
        "    class 1       0.83      0.01      0.01       810", 
        "", 
        "avg / total       0.78      0.76      0.66      3397", 
        ""
       ]
      }
     ], 
     "prompt_number": 20
    }, 
    {
     "cell_type": "code", 
     "collapsed": false, 
     "input": [
      "from sklearn import svm", 
      "s_clf_r = svm.SVC(kernel='rbf', class_weight={1:2.65})", 
      "s_clf_r.fit(other_feature.values[0:12000,:-1], other_feature.values[0:12000,-1])", 
      "pred = s_clf_r.predict(other_feature.values[12000:-1,:-1])", 
      "result = classification_report(other_feature.values[12000:-1,-1], pred, target_names=target_names)", 
      "print result"
     ], 
     "language": "python", 
     "outputs": [
      {
       "output_type": "stream", 
       "stream": "stdout", 
       "text": [
        "             precision    recall  f1-score   support", 
        "", 
        "    class 0       0.80      0.55      0.66      2587", 
        "    class 1       0.29      0.57      0.38       810", 
        "", 
        "avg / total       0.68      0.56      0.59      3397", 
        ""
       ]
      }
     ], 
     "prompt_number": 21
    }, 
    {
     "cell_type": "code", 
     "collapsed": false, 
     "input": [
      "from sklearn import svm", 
      "s_clf_r = svm.SVC(kernel='rbf', class_weight={1:1})", 
      "s_clf_r.fit(other_feature.values[0:12000,:-1], other_feature.values[0:12000,-1])", 
      "pred = s_clf_r.predict(other_feature.values[12000:-1,:-1])", 
      "result = classification_report(other_feature.values[12000:-1,-1], pred, target_names=target_names)", 
      "print result"
     ], 
     "language": "python", 
     "outputs": [
      {
       "output_type": "stream", 
       "stream": "stdout", 
       "text": [
        "             precision    recall  f1-score   support", 
        "", 
        "    class 0       0.76      1.00      0.86      2587", 
        "    class 1       0.00      0.00      0.00       810", 
        "", 
        "avg / total       0.58      0.76      0.66      3397", 
        ""
       ]
      }
     ], 
     "prompt_number": 23
    }, 
    {
     "cell_type": "code", 
     "collapsed": false, 
     "input": [
      "s_clf_r = svm.SVC(kernel='linear', class_weight={1:2.65})", 
      "s_clf_r.fit(other_feature.values[0:12000,:-1], other_feature.values[0:12000,-1])", 
      "pred = s_clf_r.predict(other_feature.values[12000:-1,:-1])", 
      "result = classification_report(other_feature.values[12000:-1,-1], pred, target_names=target_names)", 
      "print result"
     ], 
     "language": "python", 
     "outputs": [
      {
       "output_type": "stream", 
       "stream": "stdout", 
       "text": [
        "             precision    recall  f1-score   support", 
        "", 
        "    class 0       0.80      0.47      0.59      2587", 
        "    class 1       0.27      0.63      0.38       810", 
        "", 
        "avg / total       0.68      0.51      0.54      3397", 
        ""
       ]
      }
     ], 
     "prompt_number": 22
    }, 
    {
     "cell_type": "code", 
     "collapsed": false, 
     "input": [
      "from sklearn import svm", 
      "s_clf_r = svm.SVC(kernel='rbf', class_weight={1:2.65})", 
      "s_clf_r.fit(other_res[:,:-1], other_res[:,-1])", 
      "pred = s_clf_r.predict(other_feature.values[12000:-1,:-1])", 
      "result = classification_report(other_feature.values[12000:-1,-1], pred, target_names=target_names)", 
      "print result"
     ], 
     "language": "python", 
     "outputs": [
      {
       "output_type": "stream", 
       "stream": "stdout", 
       "text": [
        "             precision    recall  f1-score   support", 
        "", 
        "    class 0       0.79      0.58      0.67      2587", 
        "    class 1       0.28      0.52      0.36       810", 
        "", 
        "avg / total       0.67      0.57      0.60      3397"
       ]
      }
     ], 
     "prompt_number": 40
    }, 
    {
     "cell_type": "code", 
     "collapsed": true, 
     "input": [], 
     "language": "python", 
     "outputs": []
    }
   ]
  }
 ]
}